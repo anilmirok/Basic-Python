{
  "cells": [
    {
      "cell_type": "markdown",
      "id": "c6befb15",
      "metadata": {
        "id": "c6befb15"
      },
      "source": [
        "# Print Function In Python\n",
        "\n",
        "Syntax of Print() function\n",
        "\n",
        "print() is a buitl-in-function_or_method, which means it is a predefined or a builtin Python fuction.\n",
        "\n",
        "print(object_name, sep=\"chractor\", end=\"chractor\", file=sys.stdout, flush=False)\n"
      ]
    },
    {
      "cell_type": "code",
      "execution_count": null,
      "id": "01880082",
      "metadata": {
        "id": "01880082",
        "outputId": "db265175-5c02-49ae-986d-8b9e36847b44"
      },
      "outputs": [
        {
          "data": {
            "text/plain": [
              "builtin_function_or_method"
            ]
          },
          "execution_count": 1,
          "metadata": {},
          "output_type": "execute_result"
        }
      ],
      "source": [
        "type(print)"
      ]
    },
    {
      "cell_type": "code",
      "execution_count": null,
      "id": "42a8e157",
      "metadata": {
        "id": "42a8e157",
        "outputId": "c7b5215b-0a9f-4391-e8e1-cf2c70ce548f"
      },
      "outputs": [
        {
          "name": "stdout",
          "output_type": "stream",
          "text": [
            "hi...... \n",
            " want to learn python\n"
          ]
        }
      ],
      "source": [
        "print(\"hi...... \\n want to learn python\")"
      ]
    },
    {
      "cell_type": "markdown",
      "id": "f5d28a26",
      "metadata": {
        "id": "f5d28a26"
      },
      "source": [
        "# call A Veriable in print() function"
      ]
    },
    {
      "cell_type": "code",
      "execution_count": null,
      "id": "4ed2e464",
      "metadata": {
        "id": "4ed2e464",
        "outputId": "d52eaeab-5cf9-484c-eb59-dac8cc57c4a3",
        "colab": {
          "base_uri": "https://localhost:8080/"
        }
      },
      "outputs": [
        {
          "output_type": "stream",
          "name": "stdout",
          "text": [
            "3\n"
          ]
        }
      ],
      "source": [
        "a=3\n",
        "print(a)"
      ]
    },
    {
      "cell_type": "code",
      "execution_count": null,
      "id": "fa3aebd1",
      "metadata": {
        "id": "fa3aebd1",
        "outputId": "e1e9806a-bef5-4cc0-f5e9-4a3f396e0a8a",
        "colab": {
          "base_uri": "https://localhost:8080/"
        }
      },
      "outputs": [
        {
          "output_type": "stream",
          "name": "stdout",
          "text": [
            "a = 3\n"
          ]
        }
      ],
      "source": [
        "# when two objects are passed in print function\n",
        "\n",
        "a=3\n",
        "print('a =',a)"
      ]
    },
    {
      "cell_type": "code",
      "execution_count": null,
      "id": "1e6d2060",
      "metadata": {
        "id": "1e6d2060",
        "outputId": "733eb21e-d90e-49d3-992f-e4d4ffb87f5d",
        "colab": {
          "base_uri": "https://localhost:8080/"
        }
      },
      "outputs": [
        {
          "output_type": "stream",
          "name": "stdout",
          "text": [
            "my name is Anil Kamboj and my age is 29\n"
          ]
        }
      ],
      "source": [
        "name= \"Anil Kamboj\"\n",
        "age=29\n",
        "print(\"my name is\",name,\"and my age is\", age)"
      ]
    },
    {
      "cell_type": "markdown",
      "id": "393a28ca",
      "metadata": {
        "id": "393a28ca"
      },
      "source": [
        "### print() function ends with \"**\" as set in the end argument."
      ]
    },
    {
      "cell_type": "code",
      "execution_count": null,
      "id": "1e2a4abf",
      "metadata": {
        "id": "1e2a4abf",
        "outputId": "d53bc412-4cdf-45f1-e285-7dcecb76e9a3",
        "colab": {
          "base_uri": "https://localhost:8080/"
        }
      },
      "outputs": [
        {
          "output_type": "stream",
          "name": "stdout",
          "text": [
            "Rerady for Python**  Welcome .... You !\n"
          ]
        }
      ],
      "source": [
        "print (\"Rerady for Python\", end= \"**  \")\n",
        "print(\"Welcome .... You !\")"
      ]
    },
    {
      "cell_type": "markdown",
      "id": "f3edf56a",
      "metadata": {
        "id": "f3edf56a"
      },
      "source": [
        "### Flush Argument"
      ]
    },
    {
      "cell_type": "code",
      "execution_count": null,
      "id": "6daf28e3",
      "metadata": {
        "id": "6daf28e3"
      },
      "outputs": [],
      "source": []
    },
    {
      "cell_type": "markdown",
      "id": "715ec1d0",
      "metadata": {
        "id": "715ec1d0"
      },
      "source": [
        "# The end parameter of  print function()\n",
        "\n",
        "The end parameter is used to append any string at the end of the output of the print statement in python. By default, the print method ends with a newline. This means there is no need to specify the parameter end as next line ('\\n'). If we apply end parameter in side the print function, it add next string (line) at the end of previous string (line).\n",
        "\n",
        "syntex\n",
        "--- print('first String', end='second string')"
      ]
    },
    {
      "cell_type": "code",
      "execution_count": null,
      "id": "78fd063b",
      "metadata": {
        "id": "78fd063b",
        "outputId": "b49ee3c6-a47f-4c76-9ed6-7dbac66bb985"
      },
      "outputs": [
        {
          "name": "stdout",
          "output_type": "stream",
          "text": [
            "a"
          ]
        }
      ],
      "source": [
        "print('a', end='')"
      ]
    },
    {
      "cell_type": "code",
      "execution_count": null,
      "id": "eb87bdf0",
      "metadata": {
        "id": "eb87bdf0",
        "outputId": "8dcfe104-cfc2-4cd0-e893-6fde411b694c"
      },
      "outputs": [
        {
          "name": "stdout",
          "output_type": "stream",
          "text": [
            "a "
          ]
        }
      ],
      "source": [
        "print('a', end=' ')"
      ]
    },
    {
      "cell_type": "code",
      "execution_count": null,
      "id": "b21f23e2",
      "metadata": {
        "id": "b21f23e2",
        "outputId": "afa27c4f-4d1c-40bb-fa37-245f4c241513"
      },
      "outputs": [
        {
          "name": "stdout",
          "output_type": "stream",
          "text": [
            "ab"
          ]
        }
      ],
      "source": [
        "print('a', end='')\n",
        "print('b', end='')"
      ]
    },
    {
      "cell_type": "code",
      "execution_count": null,
      "id": "a4b62232",
      "metadata": {
        "id": "a4b62232",
        "outputId": "97918759-a0ca-456a-8906-2484a040e3f5"
      },
      "outputs": [
        {
          "name": "stdout",
          "output_type": "stream",
          "text": [
            "a b c\n"
          ]
        }
      ],
      "source": [
        "print('a', end=' ')\n",
        "print('b', end=' ')\n",
        "print('c')"
      ]
    },
    {
      "cell_type": "code",
      "execution_count": null,
      "id": "c7224f94",
      "metadata": {
        "id": "c7224f94",
        "outputId": "6e6b5c29-ce78-44a7-cdb2-494512e61e4f"
      },
      "outputs": [
        {
          "name": "stdout",
          "output_type": "stream",
          "text": [
            "Python is easy and Start from Today. Let's enjoy  it. \n"
          ]
        }
      ],
      "source": [
        "print(\"Python is easy\", end= \" \")\n",
        "print(\"and Start from Today.\", end= \" \")\n",
        "print(\"Let's enjoy  it. \")\n"
      ]
    },
    {
      "cell_type": "markdown",
      "id": "1c1629eb",
      "metadata": {
        "id": "1c1629eb"
      },
      "source": [
        "### \"sep parameter\" in Python function\n",
        "#### print() with separator\n",
        "if \"sep\" arguments passed to the program can be separated by different values. The default value for sep is whitespace."
      ]
    },
    {
      "cell_type": "code",
      "execution_count": null,
      "id": "38b0d5b9",
      "metadata": {
        "id": "38b0d5b9",
        "outputId": "9ad60a84-a46d-447e-cc2c-e5e730826efb"
      },
      "outputs": [
        {
          "name": "stdout",
          "output_type": "stream",
          "text": [
            "datacamp tutorial on python print function\n"
          ]
        }
      ],
      "source": [
        "print('datacamp','tutorial','on','python','print','function')\n"
      ]
    },
    {
      "cell_type": "code",
      "execution_count": null,
      "id": "a7178ccc",
      "metadata": {
        "id": "a7178ccc",
        "outputId": "0d3d2f17-853f-4f91-f024-f93501010b27"
      },
      "outputs": [
        {
          "name": "stdout",
          "output_type": "stream",
          "text": [
            "tutorial\n",
            "on\n",
            "python\n",
            "print\n",
            "function\n"
          ]
        }
      ],
      "source": [
        "print('tutorial','on','python','print','function',sep='\\n') #`\\n` will put each word in a new line\n"
      ]
    },
    {
      "cell_type": "code",
      "execution_count": null,
      "id": "4a029f7e",
      "metadata": {
        "id": "4a029f7e",
        "outputId": "2b7db9d9-3a6b-464f-8ecb-0028e24c5b36"
      },
      "outputs": [
        {
          "name": "stdout",
          "output_type": "stream",
          "text": [
            "datacamp,tutorial,on,python,print,function\n"
          ]
        }
      ],
      "source": [
        "# sep Function with comma\n",
        "print('datacamp','tutorial','on','python','print','function',sep=',')\n"
      ]
    },
    {
      "cell_type": "code",
      "execution_count": null,
      "id": "7a9b56d3",
      "metadata": {
        "id": "7a9b56d3",
        "outputId": "f0ebdcc1-e92f-429e-cda1-d049a8a9f95e"
      },
      "outputs": [
        {
          "name": "stdout",
          "output_type": "stream",
          "text": [
            "a=***3***"
          ]
        }
      ],
      "source": [
        "a=3\n",
        "print(\"a=\", a, sep='***', end='***')"
      ]
    },
    {
      "cell_type": "code",
      "execution_count": null,
      "id": "dca00cfe",
      "metadata": {
        "id": "dca00cfe",
        "outputId": "1cfa41f2-fbe2-452d-d0bc-8f5d68432f93"
      },
      "outputs": [
        {
          "name": "stdout",
          "output_type": "stream",
          "text": [
            "***3***"
          ]
        }
      ],
      "source": [
        "a=3\n",
        "print(\"\", a, sep='***', end='***')"
      ]
    },
    {
      "cell_type": "markdown",
      "id": "af8230fb",
      "metadata": {
        "id": "af8230fb"
      },
      "source": [
        "### print() with separator and end parameters"
      ]
    },
    {
      "cell_type": "code",
      "execution_count": null,
      "id": "1e2b87a7",
      "metadata": {
        "id": "1e2b87a7",
        "outputId": "743ec9cd-890d-4475-d424-1d9488a1fa14"
      },
      "outputs": [
        {
          "name": "stdout",
          "output_type": "stream",
          "text": [
            "********** Python is Top Learning Language **********"
          ]
        }
      ],
      "source": [
        "string=\"Python is Top Learning Language \"\n",
        "print(\"\",string, sep='********** ',end='**********')"
      ]
    },
    {
      "cell_type": "markdown",
      "id": "b7607f34",
      "metadata": {
        "id": "b7607f34"
      },
      "source": [
        "# The format method of print() function : -   {}, .format()\n",
        "\n",
        "Formatting string using format() method\n",
        "*we can pass three types of arguments in print function   \n",
        "formatting for default, positional and keyword arguments                                                                                                                           ---------\n",
        "                                                                                                                           Syntax: ‘String here {} then also {}’.format(‘something1′,’something2’)"
      ]
    },
    {
      "cell_type": "code",
      "execution_count": null,
      "id": "7ace958e",
      "metadata": {
        "id": "7ace958e",
        "outputId": "9d7eb13f-2eca-4593-bc72-60f60b2833a2"
      },
      "outputs": [
        {
          "name": "stdout",
          "output_type": "stream",
          "text": [
            "We want to learn PYTHON.\n"
          ]
        }
      ],
      "source": [
        "# formating for defaults argument\n",
        "print('We want to learn {}.'.format('PYTHON'))"
      ]
    },
    {
      "cell_type": "code",
      "execution_count": null,
      "id": "ae89d167",
      "metadata": {
        "id": "ae89d167",
        "outputId": "6979a51e-79ad-4b76-e79e-4d4597077d96"
      },
      "outputs": [
        {
          "name": "stdout",
          "output_type": "stream",
          "text": [
            "Hello Amit, your balance is 230.2346.\n"
          ]
        }
      ],
      "source": [
        "# default arguments\n",
        "print(\"Hello {}, your balance is {}.\".format(\"Amit\", 230.2346))"
      ]
    },
    {
      "cell_type": "code",
      "execution_count": null,
      "id": "9eb402d4",
      "metadata": {
        "id": "9eb402d4",
        "outputId": "4647cc6f-f1ee-4793-b520-20cc534db85a"
      },
      "outputs": [
        {
          "name": "stdout",
          "output_type": "stream",
          "text": [
            "life is love\n"
          ]
        }
      ],
      "source": [
        "# positional arguments\n",
        "print('{2} {1} {0}'.format('love','is', 'life'))"
      ]
    },
    {
      "cell_type": "code",
      "execution_count": null,
      "id": "13f1e307",
      "metadata": {
        "id": "13f1e307",
        "outputId": "0d01b397-bfc4-49c9-dd62-d7292fe5be75"
      },
      "outputs": [
        {
          "name": "stdout",
          "output_type": "stream",
          "text": [
            "Hello Amit, your balance is 230.2346.\n"
          ]
        }
      ],
      "source": [
        "# positional arguments\n",
        "print(\"Hello {0}, your balance is {1}.\".format(\"Amit\", 230.2346))"
      ]
    },
    {
      "cell_type": "code",
      "execution_count": null,
      "id": "062ef668",
      "metadata": {
        "id": "062ef668",
        "outputId": "ec02bf14-bb66-4156-d45f-5a82ddbc7f01"
      },
      "outputs": [
        {
          "name": "stdout",
          "output_type": "stream",
          "text": [
            "Hello Amit, your balance is 230.2346\n"
          ]
        }
      ],
      "source": [
        "# keyword arguments\n",
        "print(\"Hello {name}, your balance is {blc}\".format(name=\"Amit\", blc=230.2346))"
      ]
    },
    {
      "cell_type": "code",
      "execution_count": null,
      "id": "d3ce8d40",
      "metadata": {
        "id": "d3ce8d40",
        "outputId": "e57c1c18-2cde-4a17-8eff-c1da5343dda5"
      },
      "outputs": [
        {
          "name": "stdout",
          "output_type": "stream",
          "text": [
            "Hello Amit, your balance is 230.2346.\n"
          ]
        }
      ],
      "source": [
        "# mixed arguments\n",
        "print(\"Hello {0}, your balance is {blc}.\".format(\"Amit\", blc=230.2346))"
      ]
    },
    {
      "cell_type": "markdown",
      "id": "88bd9292",
      "metadata": {
        "id": "88bd9292"
      },
      "source": [
        "# The.format() method has many advantages over the placeholder method:\n",
        "\n",
        "With the help of format method, we insert object by using index-based position:"
      ]
    },
    {
      "cell_type": "markdown",
      "id": "73feef0d",
      "metadata": {
        "id": "73feef0d"
      },
      "source": [
        "# Place holder format() method using print() function\n",
        "we pass one parameter inside the format function, which places the value passed as a parameter in the placeholder position. {} represent the placeholder position.\n",
        "\n"
      ]
    },
    {
      "cell_type": "code",
      "execution_count": null,
      "id": "cabc2dbb",
      "metadata": {
        "id": "cabc2dbb",
        "outputId": "bafb48de-bf46-4c3b-bafb-fbb0d8c1e483",
        "colab": {
          "base_uri": "https://localhost:8080/"
        }
      },
      "outputs": [
        {
          "output_type": "stream",
          "name": "stdout",
          "text": [
            "Vicky is a nice boy\n"
          ]
        }
      ],
      "source": [
        "str = \"Vicky is a nice {}\"\n",
        "print(str.format(\"boy\"))"
      ]
    },
    {
      "cell_type": "code",
      "execution_count": null,
      "id": "b641a73b",
      "metadata": {
        "id": "b641a73b",
        "outputId": "f7a1add7-c2d7-49ec-bd98-63595453af47",
        "colab": {
          "base_uri": "https://localhost:8080/"
        }
      },
      "outputs": [
        {
          "output_type": "stream",
          "name": "stdout",
          "text": [
            "Roshan is a nice leader and he is young\n"
          ]
        }
      ],
      "source": [
        "#format option for value stored in a variable\n",
        "str = \"Roshan is a nice {} and he is {}\"\n",
        "print(str.format(\"leader\",\"young\"))"
      ]
    },
    {
      "cell_type": "code",
      "execution_count": null,
      "id": "bb657753",
      "metadata": {
        "id": "bb657753",
        "outputId": "3067fa17-7f54-46a7-9a81-7969a28107c3",
        "colab": {
          "base_uri": "https://localhost:8080/"
        }
      },
      "outputs": [
        {
          "output_type": "stream",
          "name": "stdout",
          "text": [
            "The Juggler has 7 balls !\n"
          ]
        }
      ],
      "source": [
        "# Call a Variable in print() function by.format() method\n",
        "Balls = 7\n",
        "print(\"The Juggler has {} balls !\".format(Balls))\n"
      ]
    },
    {
      "cell_type": "code",
      "execution_count": null,
      "id": "ef367bc9",
      "metadata": {
        "id": "ef367bc9",
        "outputId": "01d1565d-2f7a-4e4f-8909-0ed1bb132427",
        "colab": {
          "base_uri": "https://localhost:8080/"
        }
      },
      "outputs": [
        {
          "output_type": "stream",
          "name": "stdout",
          "text": [
            "Sammy has                 5 red ballooooooooooooooooooooons\n"
          ]
        }
      ],
      "source": [
        "print(\"Sammy has {0:17} red {1:7}\".format(5,\"ballooooooooooooooooooooons\"))\n"
      ]
    },
    {
      "cell_type": "markdown",
      "id": "9bcbfb74",
      "metadata": {
        "id": "9bcbfb74"
      },
      "source": [
        "###  If you have a really long format string that you don’t want to split up, it would be nice if you could reference the variables to be formatted by name instead of by position. This can be done by simply passing the dict and using square brackets '[]' to access the keys."
      ]
    },
    {
      "cell_type": "code",
      "execution_count": null,
      "id": "aa7528cd",
      "metadata": {
        "id": "aa7528cd"
      },
      "outputs": [],
      "source": [
        "empty_dict = {}\n",
        "# Here is a prefilled dictionary\n",
        "filled_dict = {\"one\": 1, \"two\": 2, \"three\": 3}"
      ]
    },
    {
      "cell_type": "code",
      "execution_count": null,
      "id": "5b30b935",
      "metadata": {
        "id": "5b30b935",
        "outputId": "4168e51f-7b45-4b95-85f9-e6f4be65eb1b",
        "colab": {
          "base_uri": "https://localhost:8080/"
        }
      },
      "outputs": [
        {
          "output_type": "stream",
          "name": "stdout",
          "text": [
            "Jack: 4098; Sjoerd: 4127; Dcab: 8637678\n"
          ]
        }
      ],
      "source": [
        "table = {'Sjoerd': 4127, 'Jack': 4098, 'Dcab': 8637678}\n",
        "print('Jack: {Jack:d}; Sjoerd: {Sjoerd:d}; Dcab: {Dcab:d}'.format(**table))"
      ]
    },
    {
      "cell_type": "markdown",
      "id": "62174d2f",
      "metadata": {
        "id": "62174d2f"
      },
      "source": [
        "# Float precision with the.format() method:\n",
        "Syntax: {[index]:[width][.precision][type]}\n",
        "‘d’ for integers\n",
        "‘f’ for floating-point numbers\n",
        "‘b’ for binary numbers\n",
        "‘o’ for octal numbers\n",
        "‘x’ for octal hexadecimal numbers\n",
        "‘s’ for string\n",
        "‘e’ for floating-point in an exponent format\n",
        "\n",
        "\n"
      ]
    },
    {
      "cell_type": "code",
      "execution_count": null,
      "id": "c035d2a8",
      "metadata": {
        "id": "c035d2a8",
        "outputId": "5944cc5e-c554-41d5-ade3-3f5f00480b49"
      },
      "outputs": [
        {
          "name": "stdout",
          "output_type": "stream",
          "text": [
            "The number is:123\n"
          ]
        }
      ],
      "source": [
        "# integer arguments\n",
        "print(\"The number is:{:d}\".format(123))"
      ]
    },
    {
      "cell_type": "code",
      "execution_count": null,
      "id": "efb45ffe",
      "metadata": {
        "id": "efb45ffe",
        "outputId": "18d1642c-21f5-4317-fa13-17dfd4f1ee43"
      },
      "outputs": [
        {
          "name": "stdout",
          "output_type": "stream",
          "text": [
            "The number is:123\n"
          ]
        }
      ],
      "source": [
        "# integer arguments\n",
        "print(\"The number is:{:2d}\".format(123))"
      ]
    },
    {
      "cell_type": "code",
      "execution_count": null,
      "id": "c28df1e9",
      "metadata": {
        "id": "c28df1e9",
        "outputId": "7e62611c-2f52-468d-96fe-e649fe41888a"
      },
      "outputs": [
        {
          "name": "stdout",
          "output_type": "stream",
          "text": [
            "   12\n"
          ]
        }
      ],
      "source": [
        "# integer numbers with minimum width\n",
        "print(\"{:5d}\".format(12))"
      ]
    },
    {
      "cell_type": "code",
      "execution_count": null,
      "id": "8b97d8f5",
      "metadata": {
        "id": "8b97d8f5",
        "outputId": "706e67b7-bd0f-4270-98af-3f2bb032c651"
      },
      "outputs": [
        {
          "name": "stdout",
          "output_type": "stream",
          "text": [
            "1234\n"
          ]
        }
      ],
      "source": [
        "# width doesn't work for numbers longer than padding\n",
        "print(\"{:2d}\".format(1234))"
      ]
    },
    {
      "cell_type": "code",
      "execution_count": null,
      "id": "3ad94624",
      "metadata": {
        "id": "3ad94624",
        "outputId": "7401e5db-084a-4d76-bf0e-a25e76044b94"
      },
      "outputs": [
        {
          "name": "stdout",
          "output_type": "stream",
          "text": [
            "00012\n"
          ]
        }
      ],
      "source": [
        "# integer numbers with minimum width filled with zeros\n",
        "print(\"{:05d}\".format(12))"
      ]
    },
    {
      "cell_type": "code",
      "execution_count": null,
      "id": "e1e77356",
      "metadata": {
        "id": "e1e77356",
        "outputId": "4a2abd36-bdfc-4b71-996b-849d84f30ad8"
      },
      "outputs": [
        {
          "name": "stdout",
          "output_type": "stream",
          "text": [
            "   12\n"
          ]
        }
      ],
      "source": [
        "# by default format() function sense datatypes , when data types not defined\n",
        "print(\"{:5}\".format(12))"
      ]
    },
    {
      "cell_type": "code",
      "execution_count": null,
      "id": "cc76dace",
      "metadata": {
        "id": "cc76dace"
      },
      "outputs": [],
      "source": [
        "#format method a list is printed"
      ]
    },
    {
      "cell_type": "code",
      "execution_count": null,
      "id": "ee98318f",
      "metadata": {
        "id": "ee98318f",
        "outputId": "9654eadd-ecdb-4755-f001-feddc30667c2"
      },
      "outputs": [
        {
          "name": "stdout",
          "output_type": "stream",
          "text": [
            "  1\n",
            " 10\n",
            " 13\n",
            "  2\n",
            " 43\n",
            "  2\n",
            "  3\n",
            "100\n"
          ]
        }
      ],
      "source": [
        "nums = [1, 10, 13, 2, 43, 2, 3, 100]\n",
        "for x in nums:\n",
        "    print(format(x, \">3\"))"
      ]
    },
    {
      "cell_type": "markdown",
      "id": "a7381105",
      "metadata": {
        "id": "a7381105"
      },
      "source": [
        "# format seprator with comma, or \"_\" when data in integer format  "
      ]
    },
    {
      "cell_type": "code",
      "execution_count": null,
      "id": "89735f17",
      "metadata": {
        "id": "89735f17",
        "outputId": "1136fcd1-b2f2-480d-b5e4-6c82b6f58036"
      },
      "outputs": [
        {
          "name": "stdout",
          "output_type": "stream",
          "text": [
            "1,000,000\n",
            "1_000_000\n"
          ]
        }
      ],
      "source": [
        "x = 1000000\n",
        "\n",
        "print(f\"{x:,}\")  # 1,000,000\n",
        "print(f\"{x:_}\")  # 1_000_000"
      ]
    },
    {
      "cell_type": "code",
      "execution_count": null,
      "id": "651c533e",
      "metadata": {
        "id": "651c533e",
        "outputId": "ee0d6ff8-db93-4ae1-dc48-94d763468f78"
      },
      "outputs": [
        {
          "name": "stdout",
          "output_type": "stream",
          "text": [
            "We have 49    chickens.\n"
          ]
        }
      ],
      "source": [
        "#To demonstrate, we insert the number 8 to set the available space for the value to 8 characters.\n",
        "#Use \"<\" to left-align the value:\n",
        "\n",
        "txt = \"We have {:<5} chickens.\"\n",
        "print(txt.format(49))\n"
      ]
    },
    {
      "cell_type": "code",
      "execution_count": null,
      "id": "f0342466",
      "metadata": {
        "id": "f0342466",
        "outputId": "57420813-d3b6-4a68-9965-2513d0c7caef"
      },
      "outputs": [
        {
          "name": "stdout",
          "output_type": "stream",
          "text": [
            "12000\n"
          ]
        }
      ],
      "source": [
        "# integer left alignment filled with zeros\n",
        "print(\"{:<05d}\".format(12))"
      ]
    },
    {
      "cell_type": "code",
      "execution_count": null,
      "id": "f428eff3",
      "metadata": {
        "id": "f428eff3",
        "outputId": "631abf75-38a8-4b67-93f4-cfd1cf4c8765"
      },
      "outputs": [
        {
          "name": "stdout",
          "output_type": "stream",
          "text": [
            "0012300\n"
          ]
        }
      ],
      "source": [
        "# integer with center alignment filled with zeros\n",
        "print(\"{:^07d}\".format(123))"
      ]
    },
    {
      "cell_type": "code",
      "execution_count": null,
      "id": "cc6c0d1a",
      "metadata": {
        "id": "cc6c0d1a",
        "outputId": "19684a8a-e39c-4eb0-c5ec-9233dc6dafc4"
      },
      "outputs": [
        {
          "name": "stdout",
          "output_type": "stream",
          "text": [
            "00012\n"
          ]
        }
      ],
      "source": [
        "# integer = alignment filled with zeros\n",
        "print(\"{:=05d}\".format(12))"
      ]
    },
    {
      "cell_type": "code",
      "execution_count": null,
      "id": "d8c485e3",
      "metadata": {
        "id": "d8c485e3",
        "outputId": "6d447e15-16f1-4257-c66c-ddb5ac2af9ad"
      },
      "outputs": [
        {
          "name": "stdout",
          "output_type": "stream",
          "text": [
            "The float number is:123.456790\n"
          ]
        }
      ],
      "source": [
        "# float arguments,here f is used for declare float data type\n",
        "print(\"The float number is:{:f}\".format(123.4567898))"
      ]
    },
    {
      "cell_type": "code",
      "execution_count": null,
      "id": "8ae22340",
      "metadata": {
        "id": "8ae22340",
        "outputId": "10d3505f-8412-47eb-933a-c97e85c36ee7"
      },
      "outputs": [
        {
          "name": "stdout",
          "output_type": "stream",
          "text": [
            "The float number is:123.46\n"
          ]
        }
      ],
      "source": [
        "# float arguments\n",
        "print(\"The float number is:{:.2f}\".format(123.4567898))"
      ]
    },
    {
      "cell_type": "code",
      "execution_count": null,
      "id": "9c93af1a",
      "metadata": {
        "id": "9c93af1a",
        "outputId": "05141446-d9fa-41c4-a3f2-62f2fef31f0a"
      },
      "outputs": [
        {
          "name": "stdout",
          "output_type": "stream",
          "text": [
            "The float number is: 123.46\n"
          ]
        }
      ],
      "source": [
        "# float arguments {:pading.upto_digits f->(float)\n",
        "print(\"The float number is:{:7.2f}\".format(123.4567898))"
      ]
    },
    {
      "cell_type": "code",
      "execution_count": null,
      "id": "d2dcacdc",
      "metadata": {
        "id": "d2dcacdc",
        "outputId": "0cc876c8-4047-4ec7-ad84-ed2d8ee4b31d"
      },
      "outputs": [
        {
          "name": "stdout",
          "output_type": "stream",
          "text": [
            "The float number is:123.456790\n"
          ]
        }
      ],
      "source": [
        "# float arguments\n",
        "print(\"The float number is:{0:4f}\".format(123.4567898))"
      ]
    },
    {
      "cell_type": "code",
      "execution_count": null,
      "id": "6700b7f4",
      "metadata": {
        "id": "6700b7f4",
        "outputId": "7c70244f-0b2e-4ca6-ef7c-60da3371c963"
      },
      "outputs": [
        {
          "name": "stdout",
          "output_type": "stream",
          "text": [
            "  12.235\n"
          ]
        }
      ],
      "source": [
        "# padding for float numbers, 8= padding,after .pt, upto 3 positon\n",
        "print(\"{:8.3f}\".format(12.2346))"
      ]
    },
    {
      "cell_type": "code",
      "execution_count": null,
      "id": "613d4a46",
      "metadata": {
        "id": "613d4a46",
        "outputId": "dfcde777-9847-488d-9661-6f82f6693c99"
      },
      "outputs": [
        {
          "name": "stdout",
          "output_type": "stream",
          "text": [
            "0012.235\n"
          ]
        }
      ],
      "source": [
        "# padding for float numbers filled with zeros\n",
        "print(\"{:08.3f}\".format(12.2346))"
      ]
    },
    {
      "cell_type": "code",
      "execution_count": null,
      "id": "16b50652",
      "metadata": {
        "id": "16b50652",
        "outputId": "1988322f-a42d-412d-80bd-78a4fc56c79a"
      },
      "outputs": [
        {
          "name": "stdout",
          "output_type": "stream",
          "text": [
            "  12.235  \n"
          ]
        }
      ],
      "source": [
        "# float numbers with center alignment\n",
        "print(\"{:^10.3f}\".format(12.2346))"
      ]
    },
    {
      "cell_type": "code",
      "execution_count": null,
      "id": "6fa99fd3",
      "metadata": {
        "id": "6fa99fd3",
        "outputId": "85e7e955-9afc-4993-d518-2f6e3d531b60"
      },
      "outputs": [
        {
          "name": "stdout",
          "output_type": "stream",
          "text": [
            "12.235    \n"
          ]
        }
      ],
      "source": [
        "# float numbers with left side alignment of alloted padding alignment\n",
        "print(\"{:<10.3f}\".format(12.2346))"
      ]
    },
    {
      "cell_type": "code",
      "execution_count": null,
      "id": "3137939d",
      "metadata": {
        "id": "3137939d",
        "outputId": "071217ad-60a1-4c72-8289-45831388f1ef"
      },
      "outputs": [
        {
          "name": "stdout",
          "output_type": "stream",
          "text": [
            "    12.235\n"
          ]
        }
      ],
      "source": [
        "# float numbers with right side allignment\n",
        "print(\"{:>10.3f}\".format(12.2346))"
      ]
    },
    {
      "cell_type": "code",
      "execution_count": null,
      "id": "b6e51164",
      "metadata": {
        "id": "b6e51164",
        "outputId": "52eb1bc5-f507-4dad-ec65-4a1f06586785"
      },
      "outputs": [
        {
          "name": "stdout",
          "output_type": "stream",
          "text": [
            "Sammy ate 75.8 percent of a pizza!\n"
          ]
        }
      ],
      "source": [
        "print(\"Sammy ate {0:.1f} percent of a pizza!\".format(75.765367))"
      ]
    },
    {
      "cell_type": "markdown",
      "id": "884da2b5",
      "metadata": {
        "id": "884da2b5"
      },
      "source": [
        "### String formatting with padding and alignment¶\n"
      ]
    },
    {
      "cell_type": "code",
      "execution_count": null,
      "id": "67b513e8",
      "metadata": {
        "id": "67b513e8",
        "outputId": "c741ab14-de5d-4bc4-fb05-2a9cecb63612"
      },
      "outputs": [
        {
          "name": "stdout",
          "output_type": "stream",
          "text": [
            "dog  \n"
          ]
        }
      ],
      "source": [
        "# string padding with left alignment\n",
        "print(\"{:5}\".format(\"dog\"))"
      ]
    },
    {
      "cell_type": "code",
      "execution_count": null,
      "id": "83b4558e",
      "metadata": {
        "id": "83b4558e",
        "outputId": "90d5dad7-7c28-41bb-88a7-46e186f045b1"
      },
      "outputs": [
        {
          "name": "stdout",
          "output_type": "stream",
          "text": [
            "  cat\n"
          ]
        }
      ],
      "source": [
        "# string padding with right alignment\n",
        "print(\"{:>5}\".format(\"cat\"))"
      ]
    },
    {
      "cell_type": "code",
      "execution_count": null,
      "id": "eb5bc358",
      "metadata": {
        "id": "eb5bc358",
        "outputId": "8e13d5dc-6050-457e-8ab1-4835c30a26b6"
      },
      "outputs": [
        {
          "name": "stdout",
          "output_type": "stream",
          "text": [
            " cat \n"
          ]
        }
      ],
      "source": [
        "# string padding with center alignment\n",
        "print(\"{:^5}\".format(\"cat\"))"
      ]
    },
    {
      "cell_type": "code",
      "execution_count": null,
      "id": "3ea0c5e9",
      "metadata": {
        "id": "3ea0c5e9",
        "outputId": "67744158-015a-4f94-f2c3-71d40fc36f2d"
      },
      "outputs": [
        {
          "name": "stdout",
          "output_type": "stream",
          "text": [
            "*****IndiaIsOne*****\n"
          ]
        }
      ],
      "source": [
        "print(\"{:*^20s}\".format(\"IndiaIsOne\"))\n"
      ]
    },
    {
      "cell_type": "code",
      "execution_count": null,
      "id": "d51492dd",
      "metadata": {
        "id": "d51492dd",
        "outputId": "b255e353-44b9-447a-d926-d1019892079f"
      },
      "outputs": [
        {
          "name": "stdout",
          "output_type": "stream",
          "text": [
            "****India Is One****\n"
          ]
        }
      ],
      "source": [
        "print(\"{:*^20s}\".format(\"India Is One\"))\n"
      ]
    },
    {
      "cell_type": "code",
      "execution_count": null,
      "id": "a3446ebb",
      "metadata": {
        "id": "a3446ebb",
        "outputId": "c29d3699-46a7-4ccc-fc8b-808a450cc389"
      },
      "outputs": [
        {
          "name": "stdout",
          "output_type": "stream",
          "text": [
            "Sammy ate    76 percent of a pizza!\n"
          ]
        }
      ],
      "source": [
        "# {start_padding: end_padding.no of float|types of data} . format()\n",
        "print(\"Sammy ate {0:5.0f} percent of a pizza!\".format(75.765367))\n"
      ]
    },
    {
      "cell_type": "markdown",
      "id": "316f1318",
      "metadata": {
        "id": "316f1318"
      },
      "source": [
        "### When Mixed argumment is passed in print() function"
      ]
    },
    {
      "cell_type": "code",
      "execution_count": null,
      "id": "8d278a35",
      "metadata": {
        "id": "8d278a35",
        "outputId": "49a246c5-f255-42db-eaed-5c5c869f97a4"
      },
      "outputs": [
        {
          "name": "stdout",
          "output_type": "stream",
          "text": [
            "India have 29   States and 8   union territories   !\n"
          ]
        }
      ],
      "source": [
        "# left-align the number and center the string:\n",
        "\n",
        "print(\"India have {0:<4} States and 8{1:^23}!\".format(29, \"union territories\"))"
      ]
    },
    {
      "cell_type": "code",
      "execution_count": null,
      "id": "c8c1ddbc",
      "metadata": {
        "id": "c8c1ddbc",
        "outputId": "5d7c1a11-86e5-4444-c124-5d23c4826582"
      },
      "outputs": [
        {
          "data": {
            "text/plain": [
              "'Hello,Bob!'"
            ]
          },
          "execution_count": 60,
          "metadata": {},
          "output_type": "execute_result"
        }
      ],
      "source": [
        "f'{name}!'\n",
        "'Hello,Bob!'"
      ]
    },
    {
      "cell_type": "markdown",
      "id": "008e23f5",
      "metadata": {
        "id": "008e23f5"
      },
      "source": [
        "### Strings can be assigned to variable say string1 and string2 which can called when using the print statement."
      ]
    },
    {
      "cell_type": "code",
      "execution_count": null,
      "id": "248eb689",
      "metadata": {
        "id": "248eb689",
        "outputId": "a8376c40-5787-4404-8267-3a1984c71e1d"
      },
      "outputs": [
        {
          "name": "stdout",
          "output_type": "stream",
          "text": [
            "Wel come\n"
          ]
        }
      ],
      "source": [
        "str1 = 'Wel'\n",
        "print(str1,'come')"
      ]
    },
    {
      "cell_type": "code",
      "execution_count": null,
      "id": "6e56bd54",
      "metadata": {
        "id": "6e56bd54",
        "outputId": "fffc4cce-8d89-4c1d-be7a-661fd5b3d879"
      },
      "outputs": [
        {
          "name": "stdout",
          "output_type": "stream",
          "text": [
            "Welcome Python\n"
          ]
        }
      ],
      "source": [
        "str1 = 'Welcome'\n",
        "str2 = 'Python'\n",
        "print(str1, str2)"
      ]
    },
    {
      "cell_type": "markdown",
      "id": "c51fa3b3",
      "metadata": {
        "id": "c51fa3b3"
      },
      "source": [
        "# String Concatenation:\n",
        "\n",
        "String concatenation is the \"addition\" of two strings. Observe that while concatenating there will be no space between the strings.\n",
        "\n"
      ]
    },
    {
      "cell_type": "code",
      "execution_count": null,
      "id": "4efbdf7c",
      "metadata": {
        "id": "4efbdf7c",
        "outputId": "2cd81150-3eba-4a98-96d2-da997790b971"
      },
      "outputs": [
        {
          "name": "stdout",
          "output_type": "stream",
          "text": [
            "WelcomePython:\n"
          ]
        }
      ],
      "source": [
        "str1 = 'Python'\n",
        "str2 = ':'\n",
        "print('Welcome' + str1 + str2)"
      ]
    },
    {
      "cell_type": "markdown",
      "id": "dfddea80",
      "metadata": {
        "id": "dfddea80"
      },
      "source": [
        "# Using as String:\n",
        "\n",
        "%s is used to refer to a variable which contains a string."
      ]
    },
    {
      "cell_type": "code",
      "execution_count": null,
      "id": "89a07a85",
      "metadata": {
        "id": "89a07a85",
        "outputId": "8bdbe076-c2b4-42fc-d29d-75ac212a8faf"
      },
      "outputs": [
        {
          "name": "stdout",
          "output_type": "stream",
          "text": [
            "Welcome Python\n"
          ]
        }
      ],
      "source": [
        "str1 = 'Python'\n",
        "print(\"Welcome %s\" % str1)  # %s is used for type of variable data types and % gives reference of variable,"
      ]
    },
    {
      "cell_type": "code",
      "execution_count": null,
      "id": "e615fd79",
      "metadata": {
        "id": "e615fd79",
        "outputId": "827b3e1c-3357-4738-f996-2fcbf9cf66e6"
      },
      "outputs": [
        {
          "name": "stdout",
          "output_type": "stream",
          "text": [
            "2 is an integer while careercodes is a string.\n"
          ]
        }
      ],
      "source": [
        "a = 2\n",
        "b = \"careercodes\"\n",
        "print(\"%d is an integer while %s is a string.\"%(a,b))"
      ]
    },
    {
      "cell_type": "markdown",
      "id": "326a381d",
      "metadata": {
        "id": "326a381d"
      },
      "source": [
        "# data types:\n",
        "\n",
        "%d -> Integer\n",
        "%e -> exponential\n",
        "%f -> Float\n",
        "%o -> Octal\n",
        "%x -> Hexadecimal"
      ]
    },
    {
      "cell_type": "code",
      "execution_count": null,
      "id": "539cc1d8",
      "metadata": {
        "id": "539cc1d8",
        "outputId": "0d64709e-3e97-462a-da16-b547f7192b57"
      },
      "outputs": [
        {
          "name": "stdout",
          "output_type": "stream",
          "text": [
            "101\n"
          ]
        }
      ],
      "source": [
        "print(34+67)"
      ]
    },
    {
      "cell_type": "code",
      "execution_count": null,
      "id": "15e0392a",
      "metadata": {
        "id": "15e0392a",
        "outputId": "b88b5af4-1678-4af2-ff43-6686b80be374"
      },
      "outputs": [
        {
          "data": {
            "text/plain": [
              "'30.456789%'"
            ]
          },
          "execution_count": 67,
          "metadata": {},
          "output_type": "execute_result"
        }
      ],
      "source": [
        "x=0.30456789\n",
        "format(x,\"%\")"
      ]
    },
    {
      "cell_type": "markdown",
      "id": "c2a79705",
      "metadata": {
        "id": "c2a79705"
      },
      "source": [
        "# Mixed Data types passing to print() Function"
      ]
    },
    {
      "cell_type": "code",
      "execution_count": null,
      "id": "ac0dd958",
      "metadata": {
        "id": "ac0dd958",
        "outputId": "6b34fe1f-b222-4527-ec64-9192831415c9"
      },
      "outputs": [
        {
          "name": "stdout",
          "output_type": "stream",
          "text": [
            "103\n",
            "101\n",
            "110\n",
            "101\n",
            "114\n",
            "97\n",
            "108\n",
            "32\n",
            "107\n",
            "101\n",
            "110\n",
            "111\n",
            "98\n",
            "105\n"
          ]
        }
      ],
      "source": [
        "msg = b\"general kenobi\"\n",
        "for byte in msg:\n",
        "    print(byte)"
      ]
    },
    {
      "cell_type": "code",
      "execution_count": null,
      "id": "3d2e3951",
      "metadata": {
        "id": "3d2e3951",
        "outputId": "05b61209-ab13-49d9-ec37-5b807d0195b2"
      },
      "outputs": [
        {
          "name": "stdout",
          "output_type": "stream",
          "text": [
            "[10, 20, 30] ('Apple', 'Ball') welcome\n"
          ]
        }
      ],
      "source": [
        "# Mixed Data types passing to print() Function\n",
        "\n",
        "list = [10,20,30]\n",
        "tuple = (\"Apple\",\"Ball\")\n",
        "string = \"welcome\"\n",
        "\n",
        "# printing the objects\n",
        "print(list,tuple,string)"
      ]
    },
    {
      "cell_type": "code",
      "execution_count": null,
      "id": "64c6b75b",
      "metadata": {
        "id": "64c6b75b",
        "outputId": "34111282-b893-4cdc-cb4a-1f4cda418879"
      },
      "outputs": [
        {
          "name": "stdout",
          "output_type": "stream",
          "text": [
            "['Balls', 'In', 'Out', '_', '_1', '_60', '_67', '__', '___', '__builtin__', '__builtins__', '__doc__', '__loader__', '__name__', '__package__', '__spec__', '_dh', '_i', '_i1', '_i10', '_i11', '_i12', '_i13', '_i14', '_i15', '_i16', '_i17', '_i18', '_i19', '_i2', '_i20', '_i21', '_i22', '_i23', '_i24', '_i25', '_i26', '_i27', '_i28', '_i29', '_i3', '_i30', '_i31', '_i32', '_i33', '_i34', '_i35', '_i36', '_i37', '_i38', '_i39', '_i4', '_i40', '_i41', '_i42', '_i43', '_i44', '_i45', '_i46', '_i47', '_i48', '_i49', '_i5', '_i50', '_i51', '_i52', '_i53', '_i54', '_i55', '_i56', '_i57', '_i58', '_i59', '_i6', '_i60', '_i61', '_i62', '_i63', '_i64', '_i65', '_i66', '_i67', '_i68', '_i69', '_i7', '_i70', '_i8', '_i9', '_ih', '_ii', '_iii', '_oh', 'a', 'age', 'b', 'byte', 'empty_dict', 'exit', 'filled_dict', 'get_ipython', 'list', 'msg', 'name', 'nums', 'quit', 'str', 'str1', 'str2', 'string', 'table', 'tuple', 'txt', 'x']\n"
          ]
        }
      ],
      "source": [
        "print(dir())"
      ]
    },
    {
      "cell_type": "code",
      "execution_count": null,
      "id": "92c3a660",
      "metadata": {
        "id": "92c3a660"
      },
      "outputs": [],
      "source": [
        "# Print A function named \"value\""
      ]
    },
    {
      "cell_type": "code",
      "execution_count": null,
      "id": "bbec4552",
      "metadata": {
        "id": "bbec4552"
      },
      "outputs": [],
      "source": [
        "items=([1,2,3,4])\n",
        "def value(items):\n",
        "    for items in item:\n",
        "        print(item)\n",
        ""
      ]
    },
    {
      "cell_type": "code",
      "execution_count": null,
      "id": "48f24ced",
      "metadata": {
        "id": "48f24ced"
      },
      "outputs": [],
      "source": [
        "value([1,2,3,4])\n",
        "def value(items):\n",
        "    for item in items:\n",
        "        print(item,end=' ' )"
      ]
    },
    {
      "cell_type": "markdown",
      "id": "7d98abab",
      "metadata": {
        "id": "7d98abab"
      },
      "source": [
        "### Decimal, Octal, Hexadecimal Numbers formatting with format()"
      ]
    },
    {
      "cell_type": "code",
      "execution_count": null,
      "id": "32af7518",
      "metadata": {
        "id": "32af7518"
      },
      "outputs": [],
      "source": [
        " # Binary representation\n",
        "print('{:b}'.format(100))"
      ]
    },
    {
      "cell_type": "code",
      "execution_count": null,
      "id": "6fbb8274",
      "metadata": {
        "id": "6fbb8274"
      },
      "outputs": [],
      "source": [
        "print('{:X}'.format(3487)) #Hexadecimal representation (uppercase letters)"
      ]
    },
    {
      "cell_type": "code",
      "execution_count": null,
      "id": "e982be98",
      "metadata": {
        "id": "e982be98"
      },
      "outputs": [],
      "source": [
        "print('{:#x}'.format(100))   #Hexadecimal representation (including the 0x)"
      ]
    },
    {
      "cell_type": "code",
      "execution_count": null,
      "id": "46d19b33",
      "metadata": {
        "id": "46d19b33"
      },
      "outputs": [],
      "source": [
        "print('{:c}'.format(100)) # Character representation"
      ]
    },
    {
      "cell_type": "code",
      "execution_count": null,
      "id": "e3376955",
      "metadata": {
        "id": "e3376955"
      },
      "outputs": [],
      "source": [
        "print('{:d}'.format(100)) # Decimal representation (default)"
      ]
    },
    {
      "cell_type": "code",
      "execution_count": null,
      "id": "014b55d8",
      "metadata": {
        "id": "014b55d8"
      },
      "outputs": [],
      "source": [
        "print('{:o}'.format(100)) #Octal representation"
      ]
    },
    {
      "cell_type": "code",
      "execution_count": null,
      "id": "cdbf8f96",
      "metadata": {
        "id": "cdbf8f96"
      },
      "outputs": [],
      "source": [
        "print('{:%}'.format(0.66)) #Percentage"
      ]
    },
    {
      "cell_type": "markdown",
      "id": "a13af9f7",
      "metadata": {
        "id": "a13af9f7"
      },
      "source": [
        "# Truncating strings with format()"
      ]
    },
    {
      "cell_type": "code",
      "execution_count": null,
      "id": "360eaf46",
      "metadata": {
        "id": "360eaf46"
      },
      "outputs": [],
      "source": [
        "# truncating strings to 3 letters\n",
        "print(\"{:.3}\".format(\"caterpillar\"))"
      ]
    },
    {
      "cell_type": "code",
      "execution_count": null,
      "id": "4c6657dd",
      "metadata": {
        "id": "4c6657dd"
      },
      "outputs": [],
      "source": [
        "# truncating strings to 3 letters\n",
        "# and padding, right alignment\n",
        "print(\"{:*>5.3}\".format(\"caterpillar\"))"
      ]
    },
    {
      "cell_type": "code",
      "execution_count": null,
      "id": "4df73867",
      "metadata": {
        "id": "4df73867"
      },
      "outputs": [],
      "source": [
        "# truncating strings to 3 letters,\n",
        "# padding and center alignment\n",
        "print(\"{:^5.3}\".format(\"caterpillar\"))"
      ]
    },
    {
      "cell_type": "code",
      "execution_count": null,
      "id": "72591120",
      "metadata": {
        "id": "72591120"
      },
      "outputs": [],
      "source": []
    }
  ],
  "metadata": {
    "kernelspec": {
      "display_name": "Python 3 (ipykernel)",
      "language": "python",
      "name": "python3"
    },
    "language_info": {
      "codemirror_mode": {
        "name": "ipython",
        "version": 3
      },
      "file_extension": ".py",
      "mimetype": "text/x-python",
      "name": "python",
      "nbconvert_exporter": "python",
      "pygments_lexer": "ipython3",
      "version": "3.9.7"
    },
    "colab": {
      "provenance": []
    }
  },
  "nbformat": 4,
  "nbformat_minor": 5
}