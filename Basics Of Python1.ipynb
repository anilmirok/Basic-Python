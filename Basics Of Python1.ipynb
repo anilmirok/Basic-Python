{
 "cells": [
  {
   "cell_type": "markdown",
   "id": "ad71e6bc",
   "metadata": {
    "id": "ad71e6bc"
   },
   "source": [
    "# Arithematic Operators"
   ]
  },
  {
   "cell_type": "code",
   "execution_count": null,
   "id": "99f277b3",
   "metadata": {
    "id": "99f277b3"
   },
   "outputs": [],
   "source": [
    "2+2"
   ]
  },
  {
   "cell_type": "code",
   "execution_count": null,
   "id": "21ec95d0",
   "metadata": {
    "id": "21ec95d0"
   },
   "outputs": [],
   "source": [
    "2-5"
   ]
  },
  {
   "cell_type": "code",
   "execution_count": null,
   "id": "49d5a5a6",
   "metadata": {
    "id": "49d5a5a6"
   },
   "outputs": [],
   "source": [
    "2*6"
   ]
  },
  {
   "cell_type": "code",
   "execution_count": null,
   "id": "cfe54589",
   "metadata": {
    "id": "cfe54589"
   },
   "outputs": [],
   "source": [
    "2/6"
   ]
  },
  {
   "cell_type": "code",
   "execution_count": null,
   "id": "2d235a73",
   "metadata": {
    "id": "2d235a73"
   },
   "outputs": [],
   "source": [
    "2%5"
   ]
  },
  {
   "cell_type": "code",
   "execution_count": null,
   "id": "e0add62d",
   "metadata": {
    "id": "e0add62d"
   },
   "outputs": [],
   "source": [
    "2**5"
   ]
  },
  {
   "cell_type": "code",
   "execution_count": null,
   "id": "0643aab2",
   "metadata": {
    "id": "0643aab2"
   },
   "outputs": [],
   "source": [
    "12//5"
   ]
  },
  {
   "cell_type": "markdown",
   "id": "a1e9e69c",
   "metadata": {
    "id": "a1e9e69c"
   },
   "source": [
    "# Assignment Operators"
   ]
  },
  {
   "cell_type": "code",
   "execution_count": null,
   "id": "50c206ef",
   "metadata": {
    "id": "50c206ef"
   },
   "outputs": [],
   "source": [
    "a=5"
   ]
  },
  {
   "cell_type": "code",
   "execution_count": null,
   "id": "88ca3f08",
   "metadata": {
    "id": "88ca3f08"
   },
   "outputs": [],
   "source": [
    "a+=4"
   ]
  },
  {
   "cell_type": "code",
   "execution_count": null,
   "id": "c55fe2db",
   "metadata": {
    "id": "c55fe2db"
   },
   "outputs": [],
   "source": [
    "a"
   ]
  },
  {
   "cell_type": "code",
   "execution_count": null,
   "id": "3ffe423c",
   "metadata": {
    "id": "3ffe423c"
   },
   "outputs": [],
   "source": [
    "a*=4"
   ]
  },
  {
   "cell_type": "code",
   "execution_count": null,
   "id": "d2ca24f2",
   "metadata": {
    "id": "d2ca24f2"
   },
   "outputs": [],
   "source": [
    "a"
   ]
  },
  {
   "cell_type": "code",
   "execution_count": null,
   "id": "906eeeaa",
   "metadata": {
    "id": "906eeeaa"
   },
   "outputs": [],
   "source": [
    "a%=2"
   ]
  },
  {
   "cell_type": "code",
   "execution_count": null,
   "id": "8b2ee440",
   "metadata": {
    "id": "8b2ee440"
   },
   "outputs": [],
   "source": [
    "a=10"
   ]
  },
  {
   "cell_type": "code",
   "execution_count": null,
   "id": "b92e80fc",
   "metadata": {
    "id": "b92e80fc"
   },
   "outputs": [],
   "source": [
    "a//=4"
   ]
  },
  {
   "cell_type": "code",
   "execution_count": null,
   "id": "207e823b",
   "metadata": {
    "id": "207e823b"
   },
   "outputs": [],
   "source": [
    "a"
   ]
  },
  {
   "cell_type": "markdown",
   "id": "00763fe3",
   "metadata": {
    "id": "00763fe3"
   },
   "source": [
    "# Comparison Operators"
   ]
  },
  {
   "cell_type": "code",
   "execution_count": null,
   "id": "2395a03b",
   "metadata": {
    "id": "2395a03b"
   },
   "outputs": [],
   "source": [
    "3==4"
   ]
  },
  {
   "cell_type": "code",
   "execution_count": null,
   "id": "58e180b0",
   "metadata": {
    "id": "58e180b0"
   },
   "outputs": [],
   "source": [
    "3!=2"
   ]
  },
  {
   "cell_type": "code",
   "execution_count": null,
   "id": "78ebe6e3",
   "metadata": {
    "id": "78ebe6e3"
   },
   "outputs": [],
   "source": [
    "3>4"
   ]
  },
  {
   "cell_type": "code",
   "execution_count": null,
   "id": "4d7da8de",
   "metadata": {
    "id": "4d7da8de"
   },
   "outputs": [],
   "source": [
    "3<4"
   ]
  },
  {
   "cell_type": "code",
   "execution_count": null,
   "id": "5da9fb9e",
   "metadata": {
    "id": "5da9fb9e"
   },
   "outputs": [],
   "source": [
    "3<=4"
   ]
  },
  {
   "cell_type": "code",
   "execution_count": null,
   "id": "0e633f51",
   "metadata": {
    "id": "0e633f51"
   },
   "outputs": [],
   "source": [
    "3>=4"
   ]
  },
  {
   "cell_type": "code",
   "execution_count": null,
   "id": "ad0db75a",
   "metadata": {
    "id": "ad0db75a"
   },
   "outputs": [],
   "source": [
    "1<3 or 3>4"
   ]
  },
  {
   "cell_type": "code",
   "execution_count": null,
   "id": "62efb8a1",
   "metadata": {
    "id": "62efb8a1"
   },
   "outputs": [],
   "source": [
    "1<3 and 3>4"
   ]
  },
  {
   "cell_type": "code",
   "execution_count": null,
   "id": "77b6985d",
   "metadata": {
    "id": "77b6985d"
   },
   "outputs": [],
   "source": [
    "not(1<3)"
   ]
  },
  {
   "cell_type": "code",
   "execution_count": null,
   "id": "d981176d",
   "metadata": {
    "id": "d981176d"
   },
   "outputs": [],
   "source": [
    "1<2 and 2<3"
   ]
  },
  {
   "cell_type": "code",
   "execution_count": null,
   "id": "db63c6b7",
   "metadata": {
    "id": "db63c6b7"
   },
   "outputs": [],
   "source": [
    "1<2<3"
   ]
  },
  {
   "cell_type": "markdown",
   "id": "c47a55b5",
   "metadata": {
    "id": "c47a55b5"
   },
   "source": [
    "# Identity Operators"
   ]
  },
  {
   "cell_type": "code",
   "execution_count": null,
   "id": "7e3c0fd1",
   "metadata": {
    "id": "7e3c0fd1"
   },
   "outputs": [],
   "source": [
    "a=[1,2,3]"
   ]
  },
  {
   "cell_type": "code",
   "execution_count": null,
   "id": "f9498f4c",
   "metadata": {
    "id": "f9498f4c"
   },
   "outputs": [],
   "source": [
    "b=[1,2,3]"
   ]
  },
  {
   "cell_type": "code",
   "execution_count": null,
   "id": "326a45f0",
   "metadata": {
    "id": "326a45f0"
   },
   "outputs": [],
   "source": [
    "a is b"
   ]
  },
  {
   "cell_type": "code",
   "execution_count": null,
   "id": "5f864296",
   "metadata": {
    "id": "5f864296"
   },
   "outputs": [],
   "source": [
    "a is not b"
   ]
  },
  {
   "cell_type": "code",
   "execution_count": null,
   "id": "9cecec95",
   "metadata": {
    "id": "9cecec95"
   },
   "outputs": [],
   "source": [
    "id(a)"
   ]
  },
  {
   "cell_type": "code",
   "execution_count": null,
   "id": "22a2c2b1",
   "metadata": {
    "id": "22a2c2b1"
   },
   "outputs": [],
   "source": [
    "id(b)"
   ]
  },
  {
   "cell_type": "code",
   "execution_count": null,
   "id": "849fb377",
   "metadata": {
    "id": "849fb377"
   },
   "outputs": [],
   "source": [
    "a==b"
   ]
  },
  {
   "cell_type": "code",
   "execution_count": null,
   "id": "997e69ca",
   "metadata": {
    "id": "997e69ca"
   },
   "outputs": [],
   "source": [
    "a={1,2,3}"
   ]
  },
  {
   "cell_type": "code",
   "execution_count": null,
   "id": "f5119b70",
   "metadata": {
    "id": "f5119b70"
   },
   "outputs": [],
   "source": [
    "b={1,2,3}"
   ]
  },
  {
   "cell_type": "code",
   "execution_count": null,
   "id": "dd44d696",
   "metadata": {
    "id": "dd44d696"
   },
   "outputs": [],
   "source": [
    "1 in a"
   ]
  },
  {
   "cell_type": "code",
   "execution_count": null,
   "id": "6c728253",
   "metadata": {
    "id": "6c728253"
   },
   "outputs": [],
   "source": [
    "4 in a"
   ]
  },
  {
   "cell_type": "markdown",
   "id": "f2c48cd2",
   "metadata": {
    "id": "f2c48cd2"
   },
   "source": [
    "# Bitwise Operators"
   ]
  },
  {
   "cell_type": "code",
   "execution_count": null,
   "id": "0df74cb5",
   "metadata": {
    "id": "0df74cb5"
   },
   "outputs": [],
   "source": [
    "2 & 3"
   ]
  },
  {
   "cell_type": "code",
   "execution_count": null,
   "id": "af32808d",
   "metadata": {
    "id": "af32808d"
   },
   "outputs": [],
   "source": [
    "2 | 3"
   ]
  },
  {
   "cell_type": "code",
   "execution_count": null,
   "id": "22ae8a6c",
   "metadata": {
    "id": "22ae8a6c"
   },
   "outputs": [],
   "source": [
    "2 ^ 3"
   ]
  },
  {
   "cell_type": "code",
   "execution_count": null,
   "id": "a2893f54",
   "metadata": {
    "id": "a2893f54"
   },
   "outputs": [],
   "source": [
    "~2"
   ]
  },
  {
   "cell_type": "code",
   "execution_count": null,
   "id": "30fa4d26",
   "metadata": {
    "id": "30fa4d26"
   },
   "outputs": [],
   "source": [
    "10 << 2"
   ]
  },
  {
   "cell_type": "code",
   "execution_count": null,
   "id": "c09c02e3",
   "metadata": {
    "id": "c09c02e3"
   },
   "outputs": [],
   "source": [
    "10 >> 2"
   ]
  },
  {
   "cell_type": "markdown",
   "id": "d9c478e9",
   "metadata": {
    "id": "d9c478e9"
   },
   "source": [
    "# keywords in Python"
   ]
  },
  {
   "cell_type": "code",
   "execution_count": null,
   "id": "ee6a3407",
   "metadata": {
    "id": "ee6a3407"
   },
   "outputs": [],
   "source": [
    "import keyword"
   ]
  },
  {
   "cell_type": "code",
   "execution_count": null,
   "id": "cf995f0e",
   "metadata": {
    "id": "cf995f0e"
   },
   "outputs": [],
   "source": [
    "n=keyword.kwlist"
   ]
  },
  {
   "cell_type": "code",
   "execution_count": null,
   "id": "586f13c0",
   "metadata": {
    "id": "586f13c0"
   },
   "outputs": [],
   "source": [
    "print(n)"
   ]
  },
  {
   "cell_type": "code",
   "execution_count": null,
   "id": "5f5da8d1",
   "metadata": {
    "id": "5f5da8d1"
   },
   "outputs": [],
   "source": [
    "len(n)"
   ]
  },
  {
   "cell_type": "code",
   "execution_count": null,
   "id": "e22fc997",
   "metadata": {
    "id": "e22fc997"
   },
   "outputs": [],
   "source": [
    "a=\"I am a string\""
   ]
  },
  {
   "cell_type": "code",
   "execution_count": null,
   "id": "905cf2ec",
   "metadata": {
    "id": "905cf2ec"
   },
   "outputs": [],
   "source": [
    "a=\"I'm a good student\""
   ]
  },
  {
   "cell_type": "code",
   "execution_count": null,
   "id": "6ff82b83",
   "metadata": {
    "id": "6ff82b83"
   },
   "outputs": [],
   "source": [
    "a"
   ]
  },
  {
   "cell_type": "markdown",
   "id": "7eecbb93",
   "metadata": {
    "id": "7eecbb93"
   },
   "source": [
    "Strings are immutable"
   ]
  },
  {
   "cell_type": "code",
   "execution_count": null,
   "id": "8cf5fa07",
   "metadata": {
    "id": "8cf5fa07"
   },
   "outputs": [],
   "source": [
    "t = \"Anand is a researcher\""
   ]
  },
  {
   "cell_type": "code",
   "execution_count": null,
   "id": "fab04949",
   "metadata": {
    "id": "fab04949"
   },
   "outputs": [],
   "source": [
    "print(type(t))"
   ]
  },
  {
   "cell_type": "code",
   "execution_count": null,
   "id": "2b046fc9",
   "metadata": {
    "id": "2b046fc9"
   },
   "outputs": [],
   "source": [
    "t[0]"
   ]
  },
  {
   "cell_type": "code",
   "execution_count": null,
   "id": "57535535",
   "metadata": {
    "id": "57535535"
   },
   "outputs": [],
   "source": [
    "t[0] = \"M\""
   ]
  },
  {
   "cell_type": "code",
   "execution_count": null,
   "id": "cb0e3006",
   "metadata": {
    "id": "cb0e3006"
   },
   "outputs": [],
   "source": [
    "t"
   ]
  },
  {
   "cell_type": "code",
   "execution_count": null,
   "id": "ced61ddb",
   "metadata": {
    "id": "ced61ddb"
   },
   "outputs": [],
   "source": [
    "t+ \" concat\""
   ]
  },
  {
   "cell_type": "markdown",
   "id": "c80cda43",
   "metadata": {
    "id": "c80cda43"
   },
   "source": [
    "Slicing and Indexing"
   ]
  },
  {
   "cell_type": "code",
   "execution_count": null,
   "id": "b00a26e2",
   "metadata": {
    "id": "b00a26e2"
   },
   "outputs": [],
   "source": [
    "s=\"Hello World\""
   ]
  },
  {
   "cell_type": "code",
   "execution_count": null,
   "id": "cef0d324",
   "metadata": {
    "id": "cef0d324"
   },
   "outputs": [],
   "source": [
    "s[0]"
   ]
  },
  {
   "cell_type": "code",
   "execution_count": null,
   "id": "441b01cb",
   "metadata": {
    "id": "441b01cb"
   },
   "outputs": [],
   "source": [
    "s[1:]"
   ]
  },
  {
   "cell_type": "code",
   "execution_count": null,
   "id": "2e51fd3d",
   "metadata": {
    "id": "2e51fd3d"
   },
   "outputs": [],
   "source": [
    "s[:3]"
   ]
  },
  {
   "cell_type": "code",
   "execution_count": null,
   "id": "f3d22f45",
   "metadata": {
    "id": "f3d22f45"
   },
   "outputs": [],
   "source": [
    "s[:0]"
   ]
  },
  {
   "cell_type": "code",
   "execution_count": null,
   "id": "db8069a9",
   "metadata": {
    "id": "db8069a9"
   },
   "outputs": [],
   "source": [
    "s[-1]"
   ]
  },
  {
   "cell_type": "code",
   "execution_count": null,
   "id": "fa5e44ce",
   "metadata": {
    "id": "fa5e44ce"
   },
   "outputs": [],
   "source": [
    "s[:-1]"
   ]
  },
  {
   "cell_type": "code",
   "execution_count": null,
   "id": "35df4281",
   "metadata": {
    "id": "35df4281"
   },
   "outputs": [],
   "source": [
    "s[::-1]"
   ]
  },
  {
   "cell_type": "code",
   "execution_count": null,
   "id": "bff13bfc",
   "metadata": {
    "id": "bff13bfc"
   },
   "outputs": [],
   "source": [
    "s[::-2]"
   ]
  },
  {
   "cell_type": "code",
   "execution_count": null,
   "id": "3cf0d24d",
   "metadata": {
    "id": "3cf0d24d"
   },
   "outputs": [],
   "source": [
    "s.lower()"
   ]
  },
  {
   "cell_type": "code",
   "execution_count": null,
   "id": "3b788066",
   "metadata": {
    "id": "3b788066"
   },
   "outputs": [],
   "source": [
    "s.upper()"
   ]
  },
  {
   "cell_type": "code",
   "execution_count": null,
   "id": "9fb771c5",
   "metadata": {
    "id": "9fb771c5"
   },
   "outputs": [],
   "source": [
    "s.split()"
   ]
  },
  {
   "cell_type": "markdown",
   "id": "708a85bd",
   "metadata": {
    "id": "708a85bd"
   },
   "source": [
    "# Print Formats"
   ]
  },
  {
   "cell_type": "code",
   "execution_count": null,
   "id": "206de5c1",
   "metadata": {
    "id": "206de5c1"
   },
   "outputs": [],
   "source": [
    "x = \"Hi\""
   ]
  },
  {
   "cell_type": "code",
   "execution_count": null,
   "id": "b2c49e87",
   "metadata": {
    "id": "b2c49e87"
   },
   "outputs": [],
   "source": [
    "print('Greetings! %s' %x)"
   ]
  },
  {
   "cell_type": "code",
   "execution_count": null,
   "id": "393fd9f9",
   "metadata": {
    "id": "393fd9f9"
   },
   "outputs": [],
   "source": [
    "print('Floating point number: %f' %(3.1456))"
   ]
  },
  {
   "cell_type": "code",
   "execution_count": null,
   "id": "b1d94e2e",
   "metadata": {
    "id": "b1d94e2e"
   },
   "outputs": [],
   "source": [
    "print('Floating point number: %1.3f' %(3.1456))"
   ]
  },
  {
   "cell_type": "code",
   "execution_count": null,
   "id": "73382cbf",
   "metadata": {
    "id": "73382cbf"
   },
   "outputs": [],
   "source": [
    "print('First: {x} Second {y} Third {x}'.format(x='inserted', y='two'))"
   ]
  },
  {
   "cell_type": "code",
   "execution_count": null,
   "id": "bbfe6ed6",
   "metadata": {
    "id": "bbfe6ed6"
   },
   "outputs": [],
   "source": [
    "id(x)"
   ]
  },
  {
   "cell_type": "code",
   "execution_count": null,
   "id": "1095562e",
   "metadata": {
    "id": "1095562e"
   },
   "outputs": [],
   "source": [
    "type(x) # BREAK"
   ]
  },
  {
   "cell_type": "markdown",
   "id": "1b5fbba5",
   "metadata": {
    "id": "1b5fbba5"
   },
   "source": [
    "# Data structures"
   ]
  },
  {
   "cell_type": "markdown",
   "id": "04569f62",
   "metadata": {
    "id": "04569f62"
   },
   "source": [
    "# List"
   ]
  },
  {
   "cell_type": "code",
   "execution_count": null,
   "id": "64a5a56a",
   "metadata": {
    "id": "64a5a56a"
   },
   "outputs": [],
   "source": [
    "a = ['one','two','three',4,5]"
   ]
  },
  {
   "cell_type": "code",
   "execution_count": null,
   "id": "870dbcc1",
   "metadata": {
    "id": "870dbcc1"
   },
   "outputs": [],
   "source": [
    "len(a)"
   ]
  },
  {
   "cell_type": "code",
   "execution_count": null,
   "id": "a366afaa",
   "metadata": {
    "id": "a366afaa"
   },
   "outputs": [],
   "source": [
    "a[:3]"
   ]
  },
  {
   "cell_type": "code",
   "execution_count": null,
   "id": "90a33892",
   "metadata": {
    "id": "90a33892"
   },
   "outputs": [],
   "source": [
    "a[4]"
   ]
  },
  {
   "cell_type": "code",
   "execution_count": null,
   "id": "0d63431e",
   "metadata": {
    "id": "0d63431e"
   },
   "outputs": [],
   "source": [
    "a = a + [\"I'm new\"]"
   ]
  },
  {
   "cell_type": "code",
   "execution_count": null,
   "id": "82f46554",
   "metadata": {
    "id": "82f46554"
   },
   "outputs": [],
   "source": [
    "a"
   ]
  },
  {
   "cell_type": "markdown",
   "id": "1cd698df",
   "metadata": {
    "id": "1cd698df"
   },
   "source": [
    "Operations in List"
   ]
  },
  {
   "cell_type": "code",
   "execution_count": null,
   "id": "f8b29060",
   "metadata": {
    "id": "f8b29060"
   },
   "outputs": [],
   "source": [
    "len(a)"
   ]
  },
  {
   "cell_type": "code",
   "execution_count": null,
   "id": "e01f475e",
   "metadata": {
    "id": "e01f475e"
   },
   "outputs": [],
   "source": [
    "b=[1,2,3]"
   ]
  },
  {
   "cell_type": "code",
   "execution_count": null,
   "id": "d8f8706f",
   "metadata": {
    "id": "d8f8706f"
   },
   "outputs": [],
   "source": [
    "a + b"
   ]
  },
  {
   "cell_type": "code",
   "execution_count": null,
   "id": "d5815640",
   "metadata": {
    "id": "d5815640"
   },
   "outputs": [],
   "source": [
    "a"
   ]
  },
  {
   "cell_type": "code",
   "execution_count": null,
   "id": "e8f7b81f",
   "metadata": {
    "id": "e8f7b81f"
   },
   "outputs": [],
   "source": [
    "b"
   ]
  },
  {
   "cell_type": "code",
   "execution_count": null,
   "id": "1b34a528",
   "metadata": {
    "id": "1b34a528"
   },
   "outputs": [],
   "source": [
    "b*4"
   ]
  },
  {
   "cell_type": "markdown",
   "id": "1b1ba44b",
   "metadata": {
    "id": "1b1ba44b"
   },
   "source": [
    "### Methods in list"
   ]
  },
  {
   "cell_type": "code",
   "execution_count": null,
   "id": "5bf3ba0c",
   "metadata": {
    "id": "5bf3ba0c"
   },
   "outputs": [],
   "source": [
    "max(b)"
   ]
  },
  {
   "cell_type": "code",
   "execution_count": null,
   "id": "8a1561fb",
   "metadata": {
    "id": "8a1561fb"
   },
   "outputs": [],
   "source": [
    "min(b)"
   ]
  },
  {
   "cell_type": "code",
   "execution_count": null,
   "id": "52395e0a",
   "metadata": {
    "id": "52395e0a"
   },
   "outputs": [],
   "source": [
    "b.append(4)"
   ]
  },
  {
   "cell_type": "code",
   "execution_count": null,
   "id": "a8a76e60",
   "metadata": {
    "id": "a8a76e60"
   },
   "outputs": [],
   "source": [
    "b"
   ]
  },
  {
   "cell_type": "code",
   "execution_count": null,
   "id": "224e7bc4",
   "metadata": {
    "id": "224e7bc4"
   },
   "outputs": [],
   "source": [
    "b.sort()"
   ]
  },
  {
   "cell_type": "code",
   "execution_count": null,
   "id": "dc13e33b",
   "metadata": {
    "id": "dc13e33b"
   },
   "outputs": [],
   "source": [
    "b"
   ]
  },
  {
   "cell_type": "code",
   "execution_count": null,
   "id": "68fe5e6b",
   "metadata": {
    "id": "68fe5e6b"
   },
   "outputs": [],
   "source": [
    "a=[2,3,4,1]"
   ]
  },
  {
   "cell_type": "code",
   "execution_count": null,
   "id": "db1bad67",
   "metadata": {
    "id": "db1bad67"
   },
   "outputs": [],
   "source": [
    "a.sort()"
   ]
  },
  {
   "cell_type": "code",
   "execution_count": null,
   "id": "f2e66a4f",
   "metadata": {
    "id": "f2e66a4f"
   },
   "outputs": [],
   "source": [
    "a"
   ]
  },
  {
   "cell_type": "code",
   "execution_count": null,
   "id": "6786a1e4",
   "metadata": {
    "id": "6786a1e4"
   },
   "outputs": [],
   "source": [
    "a.pop(0)"
   ]
  },
  {
   "cell_type": "code",
   "execution_count": null,
   "id": "c6c4af93",
   "metadata": {
    "id": "c6c4af93"
   },
   "outputs": [],
   "source": [
    "a"
   ]
  },
  {
   "cell_type": "code",
   "execution_count": null,
   "id": "da2395d3",
   "metadata": {
    "id": "da2395d3"
   },
   "outputs": [],
   "source": [
    "a.reverse()"
   ]
  },
  {
   "cell_type": "code",
   "execution_count": null,
   "id": "07601fd0",
   "metadata": {
    "id": "07601fd0"
   },
   "outputs": [],
   "source": [
    "a"
   ]
  },
  {
   "cell_type": "markdown",
   "id": "596ee489",
   "metadata": {
    "id": "596ee489"
   },
   "source": [
    "Nested Lists"
   ]
  },
  {
   "cell_type": "code",
   "execution_count": null,
   "id": "485d00b8",
   "metadata": {
    "id": "485d00b8"
   },
   "outputs": [],
   "source": [
    "p=[1,2,3]\n",
    "q=[4,5,6]\n",
    "r=[7,8,9]"
   ]
  },
  {
   "cell_type": "code",
   "execution_count": null,
   "id": "5d98a45c",
   "metadata": {
    "id": "5d98a45c"
   },
   "outputs": [],
   "source": [
    "mat=[p,q,r]"
   ]
  },
  {
   "cell_type": "code",
   "execution_count": null,
   "id": "9353120d",
   "metadata": {
    "id": "9353120d"
   },
   "outputs": [],
   "source": [
    "mat"
   ]
  },
  {
   "cell_type": "code",
   "execution_count": null,
   "id": "ff167250",
   "metadata": {
    "id": "ff167250"
   },
   "outputs": [],
   "source": [
    "mat[0][0]"
   ]
  },
  {
   "cell_type": "code",
   "execution_count": null,
   "id": "629980cb",
   "metadata": {
    "id": "629980cb"
   },
   "outputs": [],
   "source": [
    "mat[2][0]"
   ]
  },
  {
   "cell_type": "markdown",
   "id": "c09e3254",
   "metadata": {
    "id": "c09e3254"
   },
   "source": [
    "Dictionary -- Datastructure"
   ]
  },
  {
   "cell_type": "code",
   "execution_count": null,
   "id": "1bb3240a",
   "metadata": {
    "id": "1bb3240a"
   },
   "outputs": [],
   "source": [
    "thisdict =\t{\n",
    "  \"brand\": \"Ford\",\n",
    "  \"model\": \"Mustang\",\n",
    "  \"year\": 1964\n",
    "}\n",
    "print(thisdict[\"brand\"])"
   ]
  },
  {
   "cell_type": "code",
   "execution_count": null,
   "id": "38682aef",
   "metadata": {
    "id": "38682aef"
   },
   "outputs": [],
   "source": [
    " thisdict =\t{\n",
    "  \"brand\": \"Ford\",\n",
    "  \"model\": \"Mustang\",\n",
    "  \"year\": 1964,\n",
    "  \"year\": 2020\n",
    "}\n",
    "print(thisdict)"
   ]
  },
  {
   "cell_type": "code",
   "execution_count": null,
   "id": "b5f5117c",
   "metadata": {
    "id": "b5f5117c"
   },
   "outputs": [],
   "source": [
    " thisdict =\t{\n",
    "  \"brand\": \"Ford\",\n",
    "  \"model\": \"Mustang\",\n",
    "  \"year\": 2021\n",
    "}\n",
    "print(thisdict)"
   ]
  },
  {
   "cell_type": "code",
   "execution_count": null,
   "id": "4cc712e4",
   "metadata": {
    "id": "4cc712e4"
   },
   "outputs": [],
   "source": [
    "thisdict[\"model\"]"
   ]
  },
  {
   "cell_type": "code",
   "execution_count": null,
   "id": "2087fa82",
   "metadata": {
    "id": "2087fa82"
   },
   "outputs": [],
   "source": [
    "print(len(thisdict))"
   ]
  },
  {
   "cell_type": "code",
   "execution_count": null,
   "id": "c000a887",
   "metadata": {
    "id": "c000a887"
   },
   "outputs": [],
   "source": [
    "#emptydictonary\n",
    "d={}\n",
    "\n"
   ]
  },
  {
   "cell_type": "code",
   "execution_count": null,
   "id": "e361e8d5",
   "metadata": {
    "id": "e361e8d5"
   },
   "outputs": [],
   "source": [
    "d"
   ]
  },
  {
   "cell_type": "code",
   "execution_count": null,
   "id": "dc4aef7d",
   "metadata": {
    "id": "dc4aef7d"
   },
   "outputs": [],
   "source": [
    "d['animal']=\"Dog\""
   ]
  },
  {
   "cell_type": "code",
   "execution_count": null,
   "id": "a2151d91",
   "metadata": {
    "id": "a2151d91"
   },
   "outputs": [],
   "source": [
    "d"
   ]
  },
  {
   "cell_type": "code",
   "execution_count": null,
   "id": "d78b6590",
   "metadata": {
    "id": "d78b6590"
   },
   "outputs": [],
   "source": [
    "d = {'K1':'V1', 'K2':'V2'}"
   ]
  },
  {
   "cell_type": "code",
   "execution_count": null,
   "id": "c545ebe4",
   "metadata": {
    "id": "c545ebe4"
   },
   "outputs": [],
   "source": [
    "d"
   ]
  },
  {
   "cell_type": "code",
   "execution_count": null,
   "id": "cfdeef5a",
   "metadata": {
    "id": "cfdeef5a"
   },
   "outputs": [],
   "source": [
    "d['K1']"
   ]
  },
  {
   "cell_type": "code",
   "execution_count": null,
   "id": "b0ab0073",
   "metadata": {
    "id": "b0ab0073"
   },
   "outputs": [],
   "source": [
    "#Operations in Dictionaries\n"
   ]
  },
  {
   "cell_type": "code",
   "execution_count": null,
   "id": "667ea8a7",
   "metadata": {
    "id": "667ea8a7"
   },
   "outputs": [],
   "source": [
    "d={'k1':123, 'k2':3.4,'k3':'string'}"
   ]
  },
  {
   "cell_type": "code",
   "execution_count": null,
   "id": "e57a928e",
   "metadata": {
    "id": "e57a928e"
   },
   "outputs": [],
   "source": [
    "d['k3'][0]"
   ]
  },
  {
   "cell_type": "code",
   "execution_count": null,
   "id": "93ec2571",
   "metadata": {
    "id": "93ec2571"
   },
   "outputs": [],
   "source": [
    "d['k3']"
   ]
  },
  {
   "cell_type": "code",
   "execution_count": null,
   "id": "fb23e6e5",
   "metadata": {
    "id": "fb23e6e5"
   },
   "outputs": [],
   "source": [
    "d['k3'][::-1]"
   ]
  },
  {
   "cell_type": "code",
   "execution_count": null,
   "id": "deb5ed68",
   "metadata": {
    "id": "deb5ed68"
   },
   "outputs": [],
   "source": [
    "d['k1']-120"
   ]
  },
  {
   "cell_type": "code",
   "execution_count": null,
   "id": "d542e474",
   "metadata": {
    "id": "d542e474"
   },
   "outputs": [],
   "source": [
    "d['k1']=123"
   ]
  },
  {
   "cell_type": "code",
   "execution_count": null,
   "id": "251e6e8b",
   "metadata": {
    "id": "251e6e8b"
   },
   "outputs": [],
   "source": [
    "d"
   ]
  },
  {
   "cell_type": "code",
   "execution_count": null,
   "id": "b4285803",
   "metadata": {
    "id": "b4285803"
   },
   "outputs": [],
   "source": [
    "d['k1']-=3"
   ]
  },
  {
   "cell_type": "code",
   "execution_count": null,
   "id": "6e2071c4",
   "metadata": {
    "id": "6e2071c4"
   },
   "outputs": [],
   "source": [
    "d"
   ]
  },
  {
   "cell_type": "markdown",
   "id": "dce04243",
   "metadata": {
    "id": "dce04243"
   },
   "source": [
    "Nesting Dictionaries"
   ]
  },
  {
   "cell_type": "code",
   "execution_count": null,
   "id": "4b5a4ced",
   "metadata": {
    "id": "4b5a4ced"
   },
   "outputs": [],
   "source": [
    "d={'k1':{'Outer':{'inner':'v1'}}}"
   ]
  },
  {
   "cell_type": "code",
   "execution_count": null,
   "id": "43bbe2c7",
   "metadata": {
    "id": "43bbe2c7"
   },
   "outputs": [],
   "source": [
    "d"
   ]
  },
  {
   "cell_type": "code",
   "execution_count": null,
   "id": "85bd685c",
   "metadata": {
    "id": "85bd685c"
   },
   "outputs": [],
   "source": [
    "d['k1']['Outer']['inner']"
   ]
  },
  {
   "cell_type": "code",
   "execution_count": null,
   "id": "fbcf9727",
   "metadata": {
    "id": "fbcf9727"
   },
   "outputs": [],
   "source": [
    "d['k1']['Outer']['inner'].upper()"
   ]
  },
  {
   "cell_type": "markdown",
   "id": "650b82ac",
   "metadata": {
    "id": "650b82ac"
   },
   "source": [
    "Inbuilt Methods"
   ]
  },
  {
   "cell_type": "code",
   "execution_count": null,
   "id": "e0802b8e",
   "metadata": {
    "id": "e0802b8e"
   },
   "outputs": [],
   "source": [
    "d.keys()"
   ]
  },
  {
   "cell_type": "code",
   "execution_count": null,
   "id": "bcf9e859",
   "metadata": {
    "id": "bcf9e859"
   },
   "outputs": [],
   "source": [
    "d.values()"
   ]
  },
  {
   "cell_type": "code",
   "execution_count": null,
   "id": "2641a1e3",
   "metadata": {
    "id": "2641a1e3"
   },
   "outputs": [],
   "source": [
    "len(d)"
   ]
  },
  {
   "cell_type": "code",
   "execution_count": null,
   "id": "5ad31286",
   "metadata": {
    "id": "5ad31286"
   },
   "outputs": [],
   "source": [
    "d.clear()"
   ]
  },
  {
   "cell_type": "code",
   "execution_count": null,
   "id": "a34a7803",
   "metadata": {
    "id": "a34a7803"
   },
   "outputs": [],
   "source": [
    "d"
   ]
  },
  {
   "cell_type": "code",
   "execution_count": null,
   "id": "b7142724",
   "metadata": {
    "id": "b7142724"
   },
   "outputs": [],
   "source": [
    "d={'k1':{'Outer':{'inner':'v1'}}}"
   ]
  },
  {
   "cell_type": "code",
   "execution_count": null,
   "id": "f417ee36",
   "metadata": {
    "id": "f417ee36"
   },
   "outputs": [],
   "source": [
    "d"
   ]
  },
  {
   "cell_type": "code",
   "execution_count": null,
   "id": "45fce312",
   "metadata": {
    "id": "45fce312"
   },
   "outputs": [],
   "source": [
    "id(d)"
   ]
  },
  {
   "cell_type": "code",
   "execution_count": null,
   "id": "04dd2933",
   "metadata": {
    "id": "04dd2933"
   },
   "outputs": [],
   "source": [
    "d.copy()"
   ]
  },
  {
   "cell_type": "code",
   "execution_count": null,
   "id": "0c5577d0",
   "metadata": {
    "id": "0c5577d0"
   },
   "outputs": [],
   "source": [
    "d"
   ]
  },
  {
   "cell_type": "code",
   "execution_count": null,
   "id": "c7d83ed9",
   "metadata": {
    "id": "c7d83ed9"
   },
   "outputs": [],
   "source": [
    "id(d)"
   ]
  },
  {
   "cell_type": "markdown",
   "id": "0eed4ebb",
   "metadata": {
    "id": "0eed4ebb"
   },
   "source": [
    "Tuples"
   ]
  },
  {
   "cell_type": "code",
   "execution_count": null,
   "id": "7148bdde",
   "metadata": {
    "id": "7148bdde"
   },
   "outputs": [],
   "source": [
    "t=(1,2,3)"
   ]
  },
  {
   "cell_type": "code",
   "execution_count": null,
   "id": "195f353a",
   "metadata": {
    "id": "195f353a"
   },
   "outputs": [],
   "source": [
    "t"
   ]
  },
  {
   "cell_type": "code",
   "execution_count": null,
   "id": "55e1b4ce",
   "metadata": {
    "id": "55e1b4ce"
   },
   "outputs": [],
   "source": [
    "t=(1,2,'xyz')"
   ]
  },
  {
   "cell_type": "code",
   "execution_count": null,
   "id": "404a298e",
   "metadata": {
    "id": "404a298e"
   },
   "outputs": [],
   "source": [
    "t"
   ]
  },
  {
   "cell_type": "code",
   "execution_count": null,
   "id": "cf2f11ca",
   "metadata": {
    "id": "cf2f11ca"
   },
   "outputs": [],
   "source": [
    "t[0]"
   ]
  },
  {
   "cell_type": "code",
   "execution_count": null,
   "id": "69130685",
   "metadata": {
    "id": "69130685"
   },
   "outputs": [],
   "source": [
    "t[-1]"
   ]
  },
  {
   "cell_type": "code",
   "execution_count": null,
   "id": "610d1f5d",
   "metadata": {
    "id": "610d1f5d"
   },
   "outputs": [],
   "source": [
    "t=(1,2,3,3,2,'one','three')"
   ]
  },
  {
   "cell_type": "code",
   "execution_count": null,
   "id": "56fce301",
   "metadata": {
    "id": "56fce301"
   },
   "outputs": [],
   "source": [
    "t.index('one')"
   ]
  },
  {
   "cell_type": "code",
   "execution_count": null,
   "id": "c2ffc6d9",
   "metadata": {
    "id": "c2ffc6d9"
   },
   "outputs": [],
   "source": [
    "t.count(2)"
   ]
  },
  {
   "cell_type": "code",
   "execution_count": null,
   "id": "ee05994e",
   "metadata": {
    "id": "ee05994e"
   },
   "outputs": [],
   "source": [
    "t=(1,2,3)"
   ]
  },
  {
   "cell_type": "code",
   "execution_count": null,
   "id": "af94ddf8",
   "metadata": {
    "id": "af94ddf8"
   },
   "outputs": [],
   "source": [
    "t"
   ]
  },
  {
   "cell_type": "code",
   "execution_count": null,
   "id": "5faff032",
   "metadata": {
    "id": "5faff032"
   },
   "outputs": [],
   "source": [
    "t[0]"
   ]
  },
  {
   "cell_type": "code",
   "execution_count": null,
   "id": "681c3009",
   "metadata": {
    "id": "681c3009"
   },
   "outputs": [],
   "source": [
    "t[0]='s'"
   ]
  },
  {
   "cell_type": "markdown",
   "id": "f7b57be7",
   "metadata": {
    "id": "f7b57be7"
   },
   "source": [
    "Sets"
   ]
  },
  {
   "cell_type": "code",
   "execution_count": null,
   "id": "4917ad97",
   "metadata": {
    "id": "4917ad97"
   },
   "outputs": [],
   "source": [
    "l=[1,2,3,4,1,1,2,3,6,7]"
   ]
  },
  {
   "cell_type": "code",
   "execution_count": null,
   "id": "21724111",
   "metadata": {
    "id": "21724111"
   },
   "outputs": [],
   "source": [
    "k=set(l)"
   ]
  },
  {
   "cell_type": "code",
   "execution_count": null,
   "id": "acd822db",
   "metadata": {
    "id": "acd822db"
   },
   "outputs": [],
   "source": [
    "k"
   ]
  },
  {
   "cell_type": "code",
   "execution_count": null,
   "id": "77c7f50a",
   "metadata": {
    "id": "77c7f50a"
   },
   "outputs": [],
   "source": [
    "k.add(8)"
   ]
  },
  {
   "cell_type": "code",
   "execution_count": null,
   "id": "6fb087d3",
   "metadata": {
    "id": "6fb087d3"
   },
   "outputs": [],
   "source": [
    "k"
   ]
  },
  {
   "cell_type": "markdown",
   "id": "252dbc9c",
   "metadata": {
    "id": "252dbc9c"
   },
   "source": [
    "# Python Statements"
   ]
  },
  {
   "cell_type": "code",
   "execution_count": null,
   "id": "68485615",
   "metadata": {
    "id": "68485615"
   },
   "outputs": [],
   "source": [
    "if(True):\n",
    "    print('It was true')"
   ]
  },
  {
   "cell_type": "code",
   "execution_count": null,
   "id": "e4313695",
   "metadata": {
    "id": "e4313695"
   },
   "outputs": [],
   "source": [
    "x=False\n",
    "if x:\n",
    "    print('x was true')\n",
    "else:\n",
    "    print('I will print x when x is anything not true')"
   ]
  },
  {
   "cell_type": "code",
   "execution_count": null,
   "id": "102851e9",
   "metadata": {
    "id": "102851e9"
   },
   "outputs": [],
   "source": [
    "s='dodge'\n",
    "for item in s:\n",
    "    print(item)\n"
   ]
  },
  {
   "cell_type": "code",
   "execution_count": null,
   "id": "c502f24f",
   "metadata": {
    "id": "c502f24f"
   },
   "outputs": [],
   "source": [
    "l=[1,2,3,4,5]\n",
    "# print even no.s\n",
    "for item in l:\n",
    "    if item%2==0:\n",
    "        print(('item is even={x}').format(x=item))\n",
    "    else:\n",
    "        print(('item is odd={x}').format(x=item))"
   ]
  },
  {
   "cell_type": "code",
   "execution_count": null,
   "id": "355d0645",
   "metadata": {
    "id": "355d0645"
   },
   "outputs": [],
   "source": [
    "# sum of all the nos. in the list\n",
    "l=[1,2,3,4,5]\n",
    "sum=0\n",
    "for item in l:\n",
    "    sum = sum + item\n",
    "print ('The sum =', sum)"
   ]
  },
  {
   "cell_type": "code",
   "execution_count": null,
   "id": "f6b0a7ec",
   "metadata": {
    "id": "f6b0a7ec"
   },
   "outputs": [],
   "source": [
    "# It works for tuples as well\n",
    "\n",
    "t=(1,2,3,4,5)\n",
    "sum=0\n",
    "for item in t:\n",
    "    sum = sum + item\n",
    "print ('The sum =', sum)\n"
   ]
  },
  {
   "cell_type": "code",
   "execution_count": null,
   "id": "e0b051de",
   "metadata": {
    "id": "e0b051de"
   },
   "outputs": [],
   "source": [
    "d={'k1':'v1','k2':'v2'}\n",
    "for item in d:\n",
    "    print(item)"
   ]
  },
  {
   "cell_type": "code",
   "execution_count": null,
   "id": "5921cd14",
   "metadata": {
    "id": "5921cd14"
   },
   "outputs": [],
   "source": [
    "# only prints the keys\n",
    "for k,v in d.items():\n",
    "    print(v)"
   ]
  },
  {
   "cell_type": "code",
   "execution_count": null,
   "id": "4597dd56",
   "metadata": {
    "id": "4597dd56"
   },
   "outputs": [],
   "source": [
    "#How to use While loop\n",
    "x=0\n",
    "while x < 5:\n",
    "    print('x is currently: ',x)\n",
    "    x+=1\n",
    "else:\n",
    "    print('Done')"
   ]
  },
  {
   "cell_type": "code",
   "execution_count": null,
   "id": "0a4ad85d",
   "metadata": {
    "id": "0a4ad85d"
   },
   "outputs": [],
   "source": [
    "x=0\n",
    "while x<5:\n",
    "    print('x  is:',x)\n",
    "    print('x is less than 10,  adding 1')\n",
    "    x+=1\n",
    "    if x==3:\n",
    "        print ('x is 3')\n",
    "    else:\n",
    "        print('continuing...')"
   ]
  },
  {
   "cell_type": "code",
   "execution_count": null,
   "id": "81dfd43c",
   "metadata": {
    "id": "81dfd43c"
   },
   "outputs": [],
   "source": [
    "#How to use range\n",
    "\n",
    "x=range(1,10)\n",
    "list(x)"
   ]
  },
  {
   "cell_type": "code",
   "execution_count": null,
   "id": "e63cd41a",
   "metadata": {
    "id": "e63cd41a"
   },
   "outputs": [],
   "source": [
    "for item in range(0,10):\n",
    "    print(item)"
   ]
  },
  {
   "cell_type": "markdown",
   "id": "e25dae16",
   "metadata": {
    "id": "e25dae16"
   },
   "source": [
    "# list comprehensions"
   ]
  },
  {
   "cell_type": "code",
   "execution_count": null,
   "id": "c10c870c",
   "metadata": {
    "id": "c10c870c"
   },
   "outputs": [],
   "source": [
    "l = [letter for letter in 'word']"
   ]
  },
  {
   "cell_type": "code",
   "execution_count": null,
   "id": "8838e945",
   "metadata": {
    "id": "8838e945"
   },
   "outputs": [],
   "source": [
    "l"
   ]
  },
  {
   "cell_type": "code",
   "execution_count": null,
   "id": "02125117",
   "metadata": {
    "id": "02125117"
   },
   "outputs": [],
   "source": [
    "#find the square of no.s from 0 to 10 using it.\n",
    "lst = [x**2 for x in range(0,11)]"
   ]
  },
  {
   "cell_type": "code",
   "execution_count": null,
   "id": "cca19d7e",
   "metadata": {
    "id": "cca19d7e"
   },
   "outputs": [],
   "source": [
    "lst"
   ]
  },
  {
   "cell_type": "code",
   "execution_count": null,
   "id": "f8158b9b",
   "metadata": {
    "id": "f8158b9b"
   },
   "outputs": [],
   "source": [
    "#print all even nos.from 0 to 10 using it.\n",
    "lst = [num for num in range(0,11) if num%2 ==0]\n"
   ]
  },
  {
   "cell_type": "code",
   "execution_count": null,
   "id": "3fca512f",
   "metadata": {
    "id": "3fca512f"
   },
   "outputs": [],
   "source": [
    "lst"
   ]
  },
  {
   "cell_type": "code",
   "execution_count": null,
   "id": "7affc28f",
   "metadata": {
    "id": "7affc28f"
   },
   "outputs": [],
   "source": [
    "#normally we write a lengthy code such as\n",
    "l=[]\n",
    "for num in range(0,11):\n",
    "    if num%2==0:\n",
    "        l.append(num)\n",
    "print(l)"
   ]
  },
  {
   "cell_type": "code",
   "execution_count": null,
   "id": "493d3cb1",
   "metadata": {
    "id": "493d3cb1"
   },
   "outputs": [],
   "source": [
    "#write a list comprehension for converting celcius to fahrenheit.\n",
    "\n",
    "celcius =[10,20,30]\n",
    "\n",
    "faherenheit = [temp*9/5 + 32 for temp in celcius]\n",
    "faherenheit"
   ]
  },
  {
   "cell_type": "code",
   "execution_count": null,
   "id": "b3b80f90",
   "metadata": {
    "id": "b3b80f90"
   },
   "outputs": [],
   "source": [
    "#Program to filter out only the even items from a list using lambda\n",
    "l = [1,2,3,4,5]\n",
    "s = list(filter((lambda x : x%2==0),l))\n",
    "print(s)"
   ]
  },
  {
   "cell_type": "code",
   "execution_count": null,
   "id": "1943ff56",
   "metadata": {
    "id": "1943ff56"
   },
   "outputs": [],
   "source": [
    "def square(num):\n",
    "    result = num**2\n",
    "    return result"
   ]
  },
  {
   "cell_type": "code",
   "execution_count": null,
   "id": "c905ccf6",
   "metadata": {
    "id": "c905ccf6"
   },
   "outputs": [],
   "source": [
    "print(square(13))"
   ]
  },
  {
   "cell_type": "code",
   "execution_count": null,
   "id": "5d668bf9",
   "metadata": {
    "id": "5d668bf9"
   },
   "outputs": [],
   "source": [
    "#lambda expression for square\n",
    "square = lambda num:num**2\n",
    "print(square(13))"
   ]
  },
  {
   "cell_type": "code",
   "execution_count": null,
   "id": "61572e7e",
   "metadata": {
    "id": "61572e7e"
   },
   "outputs": [],
   "source": [
    "import os\n",
    "\n",
    "# folder path\n",
    "dir_path = r'/home/anand/Desktop/Class_1_IITG/Linux_Fundamentals/To_be_send/'\n",
    "count = 0\n",
    "# Iterate directory\n",
    "for path in os.listdir(dir_path):\n",
    "    # check if current path is a file\n",
    "    if os.path.isfile(os.path.join(dir_path, path)):\n",
    "        count += 1\n",
    "print('File count:', count)\n"
   ]
  },
  {
   "cell_type": "code",
   "execution_count": null,
   "id": "9ab04810",
   "metadata": {
    "id": "9ab04810"
   },
   "outputs": [],
   "source": [
    "import os\n",
    "\n",
    "# This is my path\n",
    "path = \"/home/anand/Desktop/Class_1_IITG/Linux_Fundamentals/To_be_send/\"\n",
    "\n",
    "# to store files in a list\n",
    "list = []\n",
    "\n",
    "# dirs=directories\n",
    "for (root, dirs, file) in os.walk(path):\n",
    "    for f in file:\n",
    "        print(f)"
   ]
  },
  {
   "cell_type": "code",
   "execution_count": null,
   "id": "3c84713a",
   "metadata": {
    "id": "3c84713a"
   },
   "outputs": [],
   "source": []
  },
  {
   "cell_type": "code",
   "execution_count": null,
   "id": "2c835fbf",
   "metadata": {
    "id": "2c835fbf"
   },
   "outputs": [],
   "source": []
  },
  {
   "cell_type": "code",
   "execution_count": null,
   "id": "cb52176d",
   "metadata": {
    "id": "cb52176d"
   },
   "outputs": [],
   "source": []
  },
  {
   "cell_type": "code",
   "execution_count": null,
   "id": "1a6afd81",
   "metadata": {
    "id": "1a6afd81"
   },
   "outputs": [],
   "source": []
  }
 ],
 "metadata": {
  "colab": {
   "provenance": []
  },
  "kernelspec": {
   "display_name": "Python 3 (ipykernel)",
   "language": "python",
   "name": "python3"
  },
  "language_info": {
   "codemirror_mode": {
    "name": "ipython",
    "version": 3
   },
   "file_extension": ".py",
   "mimetype": "text/x-python",
   "name": "python",
   "nbconvert_exporter": "python",
   "pygments_lexer": "ipython3",
   "version": "3.12.3"
  }
 },
 "nbformat": 4,
 "nbformat_minor": 5
}
